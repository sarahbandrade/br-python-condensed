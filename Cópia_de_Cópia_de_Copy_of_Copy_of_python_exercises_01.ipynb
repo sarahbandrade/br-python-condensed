{
  "nbformat": 4,
  "nbformat_minor": 0,
  "metadata": {
    "colab": {
      "name": "Cópia de Cópia de Copy of Copy of python_exercises_01.ipynb",
      "provenance": [],
      "collapsed_sections": [],
      "include_colab_link": true
    },
    "kernelspec": {
      "name": "python3",
      "display_name": "Python 3"
    }
  },
  "cells": [
    {
      "cell_type": "markdown",
      "metadata": {
        "id": "view-in-github",
        "colab_type": "text"
      },
      "source": [
        "<a href=\"https://colab.research.google.com/github/sarahbandrade/br-python-condensed/blob/main/C%C3%B3pia_de_C%C3%B3pia_de_Copy_of_Copy_of_python_exercises_01.ipynb\" target=\"_parent\"><img src=\"https://colab.research.google.com/assets/colab-badge.svg\" alt=\"Open In Colab\"/></a>"
      ]
    },
    {
      "cell_type": "markdown",
      "metadata": {
        "id": "8YqaSZgXYJ5g"
      },
      "source": [
        "![](https://i.imgur.com/YX6UATs.png)\n"
      ]
    },
    {
      "cell_type": "markdown",
      "metadata": {
        "id": "hhUVzDipaGb9"
      },
      "source": [
        "### **Exercícios de Python - 1** \n",
        "\n",
        "\n",
        "\n"
      ]
    },
    {
      "cell_type": "markdown",
      "metadata": {
        "id": "qMGp-h8OaGqr"
      },
      "source": [
        "1 - Faça um programa, com uma função que necessite de três argumentos, e que forneça a soma desses três argumentos."
      ]
    },
    {
      "cell_type": "code",
      "metadata": {
        "id": "kTg-D89NdCld"
      },
      "source": [
        "def calculo_moradia(aluguel,condominio,iptu): \n",
        "  soma=aluguel+condominio+iptu\n",
        "  print (f\" O valor da moradia é: {soma}\")\n",
        "\n",
        "\n"
      ],
      "execution_count": 50,
      "outputs": []
    },
    {
      "cell_type": "code",
      "metadata": {
        "colab": {
          "base_uri": "https://localhost:8080/"
        },
        "id": "Qy_0ugXY184W",
        "outputId": "f358b674-9c8a-48c1-e39f-b85a500fc20d"
      },
      "source": [
        "calculo_moradia(2000,900,500)"
      ],
      "execution_count": 36,
      "outputs": [
        {
          "output_type": "stream",
          "text": [
            " O valor da moradia é: 3400\n"
          ],
          "name": "stdout"
        }
      ]
    },
    {
      "cell_type": "markdown",
      "metadata": {
        "id": "KdLXZftIaG60"
      },
      "source": [
        "2 - Faça um Programa que peça a temperatura em graus Celsius, transforme e mostre em graus Fahrenheit. \\\n",
        "*Dica: procure a fórmula para essa conversão na internet*"
      ]
    },
    {
      "cell_type": "markdown",
      "metadata": {
        "id": "ULsR_pLz18Mt"
      },
      "source": [
        ""
      ]
    },
    {
      "cell_type": "code",
      "metadata": {
        "id": "MNINJ32eU45M",
        "colab": {
          "base_uri": "https://localhost:8080/"
        },
        "outputId": "d3377e2a-dda5-4fb4-e7a1-52c16e6ae320"
      },
      "source": [
        "#Fórmula: (x °C × 9/5) + 32 = y °F\n",
        "Celsius = float(input(\"Inserir a temperatura em graus celsius) \"))\n",
        "conversão = (Celsius*9/5)+32\n",
        "print (f\"A temperatura em graus Farenheit é: {conversão} \")\n",
        "\n",
        "\n",
        " \n",
        "\n",
        "  "
      ],
      "execution_count": 14,
      "outputs": [
        {
          "output_type": "stream",
          "text": [
            "Inserir a temperatura em graus celsius) 25\n",
            "A temperatura em graus Farenheit é: 77.0 \n"
          ],
          "name": "stdout"
        }
      ]
    },
    {
      "cell_type": "markdown",
      "metadata": {
        "id": "4OETBVgmaGzX"
      },
      "source": [
        "3 - Faça um Programa que peça um número inteiro e determine se ele é par ou impar. Dica: utilize o operador módulo (resto da divisão)."
      ]
    },
    {
      "cell_type": "code",
      "metadata": {
        "id": "WbzCimFZVSr1",
        "colab": {
          "base_uri": "https://localhost:8080/"
        },
        "outputId": "0ecba2fa-b7ff-413a-a58c-5c9ef0ef0742"
      },
      "source": [
        "  numero=int(input(\"Digite um numero inteiro: \"))\n",
        "\n",
        "  if numero%2==0:\n",
        "    print (\"numero par\")\n",
        "  else:\n",
        "    print (\"numero ímpar\")"
      ],
      "execution_count": 46,
      "outputs": [
        {
          "output_type": "stream",
          "text": [
            "Digite um numero inteiro: 8\n",
            "numero par\n"
          ],
          "name": "stdout"
        }
      ]
    },
    {
      "cell_type": "markdown",
      "metadata": {
        "id": "7zPJ8sgPaGw0"
      },
      "source": [
        "4 - Faça um programa que peça o tamanho de um arquivo para download (em MB) e a velocidade de um link de Internet (em Mbps), calcule e informe o tempo aproximado de download do arquivo usando este link (em minutos)."
      ]
    },
    {
      "cell_type": "code",
      "metadata": {
        "id": "l4qtSxU7XquB",
        "colab": {
          "base_uri": "https://localhost:8080/"
        },
        "outputId": "548ae316-514b-4a8d-cb69-2c1de56a7917"
      },
      "source": [
        "tamanho= float(input(\"Informe o tamanho do seu arquivo em MB  \"))\n",
        "velocidade=float(input(\"Informe a velocidade da sua internet em Mbps  \"))\n",
        "tempo=tamanho/velocidade/60\n",
        "\n",
        "print(f\"O tempo aproximado para download do arquivo usando este link e de: {tempo} minutos\")"
      ],
      "execution_count": 62,
      "outputs": [
        {
          "output_type": "stream",
          "text": [
            "Informe o tamanho do seu arquivo em MB  545\n",
            "Informe a velocidade da sua internet em Mbps  10\n",
            "O tempo aproximado para download do arquivo usando este link e de: 0.9083333333333333 minutos\n"
          ],
          "name": "stdout"
        }
      ]
    },
    {
      "cell_type": "markdown",
      "metadata": {
        "id": "0tkhm6EUaG1u"
      },
      "source": [
        "5 - Faça um programa para a leitura de duas notas parciais de um aluno. O programa deve calcular a média alcançada por aluno e apresentar:\n",
        "- A mensagem \"Aprovado\", se a média alcançada for maior ou igual a sete;\n",
        "- A mensagem \"Reprovado\", se a média for menor do que sete;\n",
        "- A mensagem \"Aprovado com Distinção\", se a média for igual a dez."
      ]
    },
    {
      "cell_type": "code",
      "metadata": {
        "id": "990mQ6UhdwKl",
        "colab": {
          "base_uri": "https://localhost:8080/"
        },
        "outputId": "89cae981-0193-49f1-bd2a-0ce8e7b4d7f7"
      },
      "source": [
        "\n",
        "n1 = float(input(\"digite sua primeira nota \"))\n",
        "n2 = float(input(\"digite sua segunda nota \"))\n",
        "\n",
        "\n",
        "media= float((n1+n2)/2)\n",
        "\n",
        "if media >=7.0:\n",
        "  print(\"APROVADO\")\n",
        "  if media ==10.0:\n",
        "    print (\"COM DISTINÇÃO\")\n",
        "if media < 7.0:\n",
        "    print(\"REPROVADO\")\n",
        "  "
      ],
      "execution_count": 49,
      "outputs": [
        {
          "output_type": "stream",
          "text": [
            "digite sua primeira nota 10\n",
            "digite sua segunda nota 10\n",
            "APROVADO\n",
            "COM DISTINÇÃO\n"
          ],
          "name": "stdout"
        }
      ]
    },
    {
      "cell_type": "markdown",
      "metadata": {
        "id": "Lm1tOKThnU42"
      },
      "source": [
        "Exercícios adaptados de Python Brasil"
      ]
    }
  ]
}